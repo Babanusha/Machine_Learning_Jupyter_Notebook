{
 "cells": [
  {
   "cell_type": "markdown",
   "id": "b19731fc-d81e-4cc8-9d52-0f40a0d46573",
   "metadata": {},
   "source": [
    "# WELCOME TO MY NOTEBOOK!\n",
    "# Mandatory Assignment - 1\n",
    "\n",
    "Dataset used: https://www.kaggle.com/datasets/yasserh/wine-quality-dataset\n",
    "Please note that GPT was used as a way to improve plotting and structuring of the notebook elements:"
   ]
  },
  {
   "cell_type": "code",
   "execution_count": 2,
   "id": "3fd17a93-01f0-4bd8-9ad7-717cee67e48f",
   "metadata": {},
   "outputs": [],
   "source": [
    "# Imports:\n",
    "import matplotlib.pyplot as plt\n",
    "import numpy as np\n",
    "import pandas as pd\n",
    "import os\n",
    "from sklearn.linear_model import LinearRegression\n",
    "from sklearn.preprocessing import add_dummy_feature, StandardScaler"
   ]
  },
  {
   "cell_type": "code",
   "execution_count": 3,
   "id": "545fccff-26e7-462c-b3a5-c4ebd9d31c7b",
   "metadata": {},
   "outputs": [
    {
     "name": "stdout",
     "output_type": "stream",
     "text": [
      "Path buildt is : \n",
      " C:\\Developer\\Jupyter Notebook\\Machine_Learning_Jupyter_Notebook\\files\\WineQT.csv\n",
      "Does the file exists? ->  True\n"
     ]
    }
   ],
   "source": [
    "#Supplmententary to make OS/computer indepentent.\n",
    "# Get the current notebook's directory\n",
    "current_dir = os.getcwd()\n",
    "# Build the path to the sibling \"Files\" folder\n",
    "file_path = os.path.join(current_dir, \"files\", \"WineQT.csv\")\n",
    "print(\"Path buildt is : \\n\", file_path)\n",
    "print(\"Does the file exists? -> \", os.path.exists(file_path))"
   ]
  },
  {
   "cell_type": "markdown",
   "id": "5e2f2fde-a122-4377-ad02-d4b36523fdf0",
   "metadata": {},
   "source": [
    "# Exercice 1.1 - Data Exploration:"
   ]
  },
  {
   "cell_type": "code",
   "execution_count": 4,
   "id": "69fa591f-37ec-45dc-af45-3dc3afbee0e0",
   "metadata": {},
   "outputs": [
    {
     "name": "stdout",
     "output_type": "stream",
     "text": [
      "   fixed acidity  volatile acidity  citric acid  residual sugar  chlorides  \\\n",
      "0            7.4              0.70         0.00             1.9      0.076   \n",
      "1            7.8              0.88         0.00             2.6      0.098   \n",
      "2            7.8              0.76         0.04             2.3      0.092   \n",
      "3           11.2              0.28         0.56             1.9      0.075   \n",
      "4            7.4              0.70         0.00             1.9      0.076   \n",
      "\n",
      "   free sulfur dioxide  total sulfur dioxide  density    pH  sulphates  \\\n",
      "0                 11.0                  34.0   0.9978  3.51       0.56   \n",
      "1                 25.0                  67.0   0.9968  3.20       0.68   \n",
      "2                 15.0                  54.0   0.9970  3.26       0.65   \n",
      "3                 17.0                  60.0   0.9980  3.16       0.58   \n",
      "4                 11.0                  34.0   0.9978  3.51       0.56   \n",
      "\n",
      "   alcohol  quality  Id  \n",
      "0      9.4        5   0  \n",
      "1      9.8        5   1  \n",
      "2      9.8        5   2  \n",
      "3      9.8        6   3  \n",
      "4      9.4        5   4  \n"
     ]
    }
   ],
   "source": [
    "# Q-1.1.1\n",
    "dframe = pd.read_csv(file_path)\n",
    "\n",
    "print(dframe.iloc[:5,:])"
   ]
  },
  {
   "cell_type": "code",
   "execution_count": 5,
   "id": "e5928788-5b5c-410c-9296-ba428a7d53a4",
   "metadata": {},
   "outputs": [
    {
     "name": "stdout",
     "output_type": "stream",
     "text": [
      "citric acid             0.732907\n",
      "total sulfur dioxide    0.713979\n",
      "free sulfur dioxide     0.656431\n",
      "Id                      0.576416\n",
      "chlorides               0.543724\n",
      "residual sugar          0.535480\n",
      "volatile acidity        0.338077\n",
      "sulphates               0.259080\n",
      "fixed acidity           0.210272\n",
      "quality                 0.142446\n",
      "alcohol                 0.103638\n",
      "pH                      0.047316\n",
      "density                 0.001931\n",
      "dtype: float64\n"
     ]
    }
   ],
   "source": [
    "# Q-1.1.2\n",
    "#  Calculating the variation using the coefficient of variation.\n",
    "# \"/ `mean`\" is needed since the features are on different scales and units from each other.\n",
    "summary = dframe.describe()\n",
    "\n",
    "print((summary.loc[\"std\"] / summary.loc[\"mean\"]).sort_values(ascending=False))\n",
    "# Here we can See that citric acid has the highest variation based on the statistics given."
   ]
  },
  {
   "cell_type": "code",
   "execution_count": 6,
   "id": "f1d8c68d-eb75-43db-9df6-3fbca3944988",
   "metadata": {},
   "outputs": [
    {
     "name": "stdout",
     "output_type": "stream",
     "text": [
      "                      fixed acidity  volatile acidity  citric acid  \\\n",
      "fixed acidity              1.000000         -0.250728     0.673157   \n",
      "volatile acidity          -0.250728          1.000000    -0.544187   \n",
      "citric acid                0.673157         -0.544187     1.000000   \n",
      "residual sugar             0.171831         -0.005751     0.175815   \n",
      "chlorides                  0.107889          0.056336     0.245312   \n",
      "free sulfur dioxide       -0.164831         -0.001962    -0.057589   \n",
      "total sulfur dioxide      -0.110628          0.077748     0.036871   \n",
      "density                    0.681501          0.016512     0.375243   \n",
      "pH                        -0.685163          0.221492    -0.546339   \n",
      "sulphates                  0.174592         -0.276079     0.331232   \n",
      "alcohol                   -0.075055         -0.203909     0.106250   \n",
      "quality                    0.121970         -0.407394     0.240821   \n",
      "Id                        -0.275826         -0.007892    -0.139011   \n",
      "\n",
      "                      residual sugar  chlorides  free sulfur dioxide  \\\n",
      "fixed acidity               0.171831   0.107889            -0.164831   \n",
      "volatile acidity           -0.005751   0.056336            -0.001962   \n",
      "citric acid                 0.175815   0.245312            -0.057589   \n",
      "residual sugar              1.000000   0.070863             0.165339   \n",
      "chlorides                   0.070863   1.000000             0.015280   \n",
      "free sulfur dioxide         0.165339   0.015280             1.000000   \n",
      "total sulfur dioxide        0.190790   0.048163             0.661093   \n",
      "density                     0.380147   0.208901            -0.054150   \n",
      "pH                         -0.116959  -0.277759             0.072804   \n",
      "sulphates                   0.017475   0.374784             0.034445   \n",
      "alcohol                     0.058421  -0.229917            -0.047095   \n",
      "quality                     0.022002  -0.124085            -0.063260   \n",
      "Id                         -0.046344  -0.088099             0.095268   \n",
      "\n",
      "                      total sulfur dioxide   density        pH  sulphates  \\\n",
      "fixed acidity                    -0.110628  0.681501 -0.685163   0.174592   \n",
      "volatile acidity                  0.077748  0.016512  0.221492  -0.276079   \n",
      "citric acid                       0.036871  0.375243 -0.546339   0.331232   \n",
      "residual sugar                    0.190790  0.380147 -0.116959   0.017475   \n",
      "chlorides                         0.048163  0.208901 -0.277759   0.374784   \n",
      "free sulfur dioxide               0.661093 -0.054150  0.072804   0.034445   \n",
      "total sulfur dioxide              1.000000  0.050175 -0.059126   0.026894   \n",
      "density                           0.050175  1.000000 -0.352775   0.143139   \n",
      "pH                               -0.059126 -0.352775  1.000000  -0.185499   \n",
      "sulphates                         0.026894  0.143139 -0.185499   1.000000   \n",
      "alcohol                          -0.188165 -0.494727  0.225322   0.094421   \n",
      "quality                          -0.183339 -0.175208 -0.052453   0.257710   \n",
      "Id                               -0.107389 -0.363926  0.132904  -0.103954   \n",
      "\n",
      "                       alcohol   quality        Id  \n",
      "fixed acidity        -0.075055  0.121970 -0.275826  \n",
      "volatile acidity     -0.203909 -0.407394 -0.007892  \n",
      "citric acid           0.106250  0.240821 -0.139011  \n",
      "residual sugar        0.058421  0.022002 -0.046344  \n",
      "chlorides            -0.229917 -0.124085 -0.088099  \n",
      "free sulfur dioxide  -0.047095 -0.063260  0.095268  \n",
      "total sulfur dioxide -0.188165 -0.183339 -0.107389  \n",
      "density              -0.494727 -0.175208 -0.363926  \n",
      "pH                    0.225322 -0.052453  0.132904  \n",
      "sulphates             0.094421  0.257710 -0.103954  \n",
      "alcohol               1.000000  0.484866  0.238087  \n",
      "quality               0.484866  1.000000  0.069708  \n",
      "Id                    0.238087  0.069708  1.000000  \n"
     ]
    }
   ],
   "source": [
    "# Exercice 1.2 - Correlation Analysis:\n",
    "# -----------------------------\n",
    "\n",
    "#Q-1.2.1: \n",
    "# Correlation matrix is a -1 to 1 scale,\n",
    "# where \"-1\" is \"Strong NEGATIVE correlation\" and \"1\" is \"Strong POSITIVE Correlation\"\n",
    "\n",
    "corr_matrix = dframe.corr() #For normal numpy array view, we can add \".values\"\n",
    "print(corr_matrix) "
   ]
  },
  {
   "cell_type": "code",
   "execution_count": 7,
   "id": "c6a96a9b-7946-4093-b525-58718b6456bc",
   "metadata": {},
   "outputs": [
    {
     "data": {
      "image/png": "[encoded data removed]",
      "text/plain": [
       "<Figure size 800x800 with 2 Axes>"
      ]
     },
     "metadata": {},
     "output_type": "display_data"
    },
    {
     "name": "stdout",
     "output_type": "stream",
     "text": [
      "(13, 13)\n"
     ]
    }
   ],
   "source": [
    "#Q-1.2.2:\n",
    "#Using \"corr_matrix\" from above!\n",
    "\n",
    "matrix = corr_matrix\n",
    "fig, ax = plt.subplots(figsize= (8,8))\n",
    "\n",
    "cax = ax.matshow(matrix, cmap=\"seismic\") #Adding the heatmap colour.\n",
    "fig.colorbar(cax, shrink=0.5, aspect=20) #Shrinking it...\n",
    "\n",
    "#Placing title above plot.\n",
    "plt.title(\"Heatmap of the correlation matrix\", pad=15)\n",
    "plt.show()\n",
    "\n",
    "print(matrix.shape) #Just checking the matrix dimention."
   ]
  },
  {
   "cell_type": "code",
   "execution_count": 8,
   "id": "c2b2225b-e017-40c3-971f-720324881bb3",
   "metadata": {},
   "outputs": [
    {
     "name": "stdout",
     "output_type": "stream",
     "text": [
      "quality                 1.000000\n",
      "alcohol                 0.484866\n",
      "sulphates               0.257710\n",
      "citric acid             0.240821\n",
      "fixed acidity           0.121970\n",
      "Id                      0.069708\n",
      "residual sugar          0.022002\n",
      "pH                     -0.052453\n",
      "free sulfur dioxide    -0.063260\n",
      "chlorides              -0.124085\n",
      "density                -0.175208\n",
      "total sulfur dioxide   -0.183339\n",
      "volatile acidity       -0.407394\n",
      "Name: quality, dtype: float64\n"
     ]
    }
   ],
   "source": [
    "#Q-1.2.3:\n",
    "#Here we can either look at the matrix plot with  X = quality, and Y = Visually find the \"reddest\" one.\n",
    "# OR we can do the lazy way:\n",
    "quality_corr = dframe.corr()[\"quality\"]\n",
    "print(quality_corr.sort_values(ascending=False))\n",
    "# Looking at the positive top, we can find both quality and alchohol, where alchohol is the feature\n",
    "# that has the highest POSITIVE correlation with quality.\n",
    "# Volatile acidity is the one with the highest NEGATIVE correlation."
   ]
  },
  {
   "cell_type": "markdown",
   "id": "e2ff3a70-eb37-4e08-b425-5b1b448676ec",
   "metadata": {},
   "source": [
    "#Q1.2.4:\n",
    "\n",
    "\n",
    "\n",
    "Alchohol has a positive correlation with quality of around 0.485, while pH has a negative one of around -0.0525. The absolute value of the correlation shows us good it is as a predictor value, absolute because it can both predict higher and lower quality. \n",
    "\n",
    "Since the pH is close to zero, meaning it almost doesnt correlate with the quality, and that the alcohol feature has a much higher absolute value we can say that the alcohol feature is better  suited for prediciting quality.\n"
   ]
  },
  {
   "cell_type": "markdown",
   "id": "482644f9-e3da-411e-9690-5a4f05ec5a23",
   "metadata": {},
   "source": [
    "# Exercice 1.3 Linear Regression"
   ]
  },
  {
   "cell_type": "code",
   "execution_count": 23,
   "id": "a5c6bf20-084c-48f5-b7b7-3488f506b63f",
   "metadata": {},
   "outputs": [],
   "source": [
    "#Q-1.3.1\n",
    "#DataFrame values:\n",
    "yQualityVal = dframe[\"quality\"].values\n",
    "xChloridesVal = dframe[\"chlorides\"].values\n",
    "        \n",
    "#Reframing into 2D matrix:\n",
    "xChlorides_2D = xChloridesVal.reshape(-1, 1)\n",
    "yQualityVal_2D = yQualityVal.reshape(-1, 1)\n",
    "    \n",
    "#Preproccessing the values:\n",
    "xC_bias = add_dummy_feature(xChlorides_2D)\n",
    "xC_T = xC_bias.T #Transposing the xValue including bias.\n",
    "\n",
    "\n",
    "\n",
    "#Gradient Descent Adjustable Values:\n",
    "learnRate = 0.1 ## Random small learning rate.\n",
    "n_epochs = 1000 # learning groups.\n",
    "\n",
    "#Descent:\n",
    "np.random.seed(42) #Fixed random seed, so values can be recreated.\n",
    "thetaChl = np.random.randn(2, 1) #Random 2x1 vector.\n",
    "m = len(xChloridesVal) # m instances\n",
    "for epoch in range(n_epochs):\n",
    "\n",
    "    gradients = (2 / m) * xC_T @ (xC_bias @ thetaChl - yQualityVal_2D)\n",
    "    thetaChl = thetaChl - learnRate * gradients\n"
   ]
  },
  {
   "cell_type": "code",
   "execution_count": 24,
   "id": "6f286240-4219-4851-8fe7-d7a157b76cb1",
   "metadata": {
    "scrolled": true
   },
   "outputs": [
    {
     "data": {
      "image/png": "[encoded data removed]",
      "text/plain": [
       "<Figure size 1000x600 with 1 Axes>"
      ]
     },
     "metadata": {},
     "output_type": "display_data"
    }
   ],
   "source": [
    "#Disclaimer GPT is used to plot with self-made gradient descent code.\n",
    "\n",
    "# 1. Calculate the Regression Line Predictions\n",
    "# y_predict = theta[0, 0] + theta[1, 0] * xChloridesVal\n",
    "y_predict = thetaChl[0, 0] + thetaChl[1, 0] * xChloridesVal\n",
    "\n",
    "# 2. Create the Plot\n",
    "plt.figure(figsize=(10, 6))\n",
    "\n",
    "# Scatter plot of the actual data points\n",
    "plt.scatter(xChloridesVal, yQualityVal, color='blue', label='Actual Data Points')\n",
    "\n",
    "# Plot the regression line\n",
    "# We plot the calculated predictions against the original features\n",
    "plt.plot(xChloridesVal, y_predict, color='red', linewidth=3, label='Gradient Descent Regression Line')\n",
    "\n",
    "# 3. Add Labels and Title\n",
    "plt.xlabel(\"Chlorides Level\")\n",
    "plt.ylabel(\"Quality Level\")\n",
    "plt.title(\"Linear Regression: Quality Level vs. Chlorides Level (GD)\")\n",
    "plt.legend()\n",
    "plt.grid(True)\n",
    "plt.show() # Use plt.show() to display the plot in your environment"
   ]
  },
  {
   "cell_type": "code",
   "execution_count": 25,
   "id": "f4a256bd-c11b-453a-8f89-72314227255b",
   "metadata": {},
   "outputs": [],
   "source": [
    "#Q-1.3.2:\n",
    "# TASK: Fit a simple linear regression model predicting quality using only alcohol.\n",
    "\n",
    "#Note: Might give runtimeWarning, this can cause nan values at the end of the vector Array.\n",
    "# The runetimeWarning can be stopped by reducing the learning rate from 0.1 to a lower number, \n",
    "# here the learning rate is at 45e-5, both because of the runtimeWarning and under/over-shooting from the gradient line.\n",
    "# Overshoot (Might indicate a high learningrate -> reduce learningRate)\n",
    "# Undershoot (Might indicate a low learningrate -> increase learningRate)"
   ]
  },
  {
   "cell_type": "code",
   "execution_count": 26,
   "id": "debef934-5ad8-4841-85a5-036f53f33381",
   "metadata": {},
   "outputs": [],
   "source": [
    "#DataFrame values:\n",
    "yQualityVal = dframe[\"quality\"].values\n",
    "xAlcoholVal = dframe[\"alcohol\"].values\n",
    "        \n",
    "#Reframing into 2D matrix:\n",
    "xAlcoholVal_2D = xAlcoholVal.reshape(-1, 1)\n",
    "yQualityVal_2D = yQualityVal.reshape(-1, 1)\n",
    "\n",
    "#NEW! Uses scikit`s scaler to normalize the alcohol values.\n",
    "scaler = StandardScaler()\n",
    "# Fit and transform the feature data\n",
    "xAlcohol_scaled = scaler.fit_transform(xAlcoholVal_2D) \n",
    "\n",
    "\n",
    "#Preproccessing the values:\n",
    "xAlc_bias = add_dummy_feature(xAlcohol_scaled)\n",
    "xAlc_T = xAlc_bias.T #Transposing the xValue including bias.\n",
    "\n",
    "\n",
    "#Gradient Descent Adjustable Values:\n",
    "learnRate = 45e-5 ## Random small learning rate.\n",
    "n_epochs = 1000 # learning groups.\n",
    "\n",
    "#Descent:\n",
    "np.random.seed(42) #Fixed random seed, so values can be recreated.\n",
    "thetaAlc = np.random.randn(2, 1) #Random 2x1 vector.\n",
    "m = len(xChloridesVal) # m instances\n",
    "for epoch in range(n_epochs):\n",
    "\n",
    "    gradients = (2 / m) * xAlc_T @ (xAlc_bias @ thetaAlc - yQualityVal_2D)\n",
    "    thetaAlc = thetaAlc - learnRate * gradients"
   ]
  },
  {
   "cell_type": "code",
   "execution_count": 27,
   "id": "4623de3b-6993-4e64-8495-27b5ac64f39b",
   "metadata": {},
   "outputs": [
    {
     "data": {
      "image/png": "[encoded data removed]",
      "text/plain": [
       "<Figure size 1000x600 with 1 Axes>"
      ]
     },
     "metadata": {},
     "output_type": "display_data"
    }
   ],
   "source": [
    "#Code from above, with few adjustments for alchoholVal.\n",
    "\n",
    "# 1. Calculate the Regression Line Predictions\n",
    "y_predict = thetaAlc[0, 0] + thetaAlc[1, 0] * xAlcoholVal\n",
    "\n",
    "# 2. Create the Plot\n",
    "plt.figure(figsize=(10, 6))\n",
    "\n",
    "# Scatter plot of the actual data points\n",
    "plt.scatter(xAlcoholVal, yQualityVal, color='blue', label='Actual Data Points')\n",
    "\n",
    "# Plot the regression line\n",
    "# We plot the calculated predictions against the original features\n",
    "plt.plot(xAlcoholVal, y_predict, color='red', linewidth=3, label='Gradient Descent Regression Line')\n",
    "\n",
    "# 3. Add Labels and Title\n",
    "plt.xlabel(\"Alcohol Level\")\n",
    "plt.ylabel(\"Quality Level\")\n",
    "plt.title(\"Linear Regression: Quality Level vs. Alcohol Level (GD)\")\n",
    "plt.legend()\n",
    "plt.grid(True)\n",
    "plt.show() # Use plt.show() to display the plot in your environment"
   ]
  },
  {
   "cell_type": "code",
   "execution_count": 28,
   "id": "04f150bb-f357-460a-a34a-4c1c4df36dda",
   "metadata": {},
   "outputs": [
    {
     "name": "stdout",
     "output_type": "stream",
     "text": [
      "CHLORIDES VALUES:\n",
      "Final Intercept (Bias, theta_0): 5.7053\n",
      "Final Coefficient (Chlorides Weight, theta_1): -0.5590\n",
      "ALCOHOL VALUES:\n",
      "Final Intercept (Bias, theta_0): 3.5599\n",
      "Final Coefficient (Alcohol Weight, theta_1): 0.1756\n"
     ]
    }
   ],
   "source": [
    "#Q-1.3.3\n",
    "# Retrieving the intercept and coefficient for both the thetaChl (Chlorides) and thetaAlc (Alcohol).\n",
    "\n",
    "final_intercept = thetaChl[0, 0]\n",
    "final_coefficient = thetaChl[1, 0]\n",
    "print( \"CHLORIDES VALUES:\" )\n",
    "print(f\"Final Intercept (Bias, theta_0): {final_intercept:.4f}\")\n",
    "print(f\"Final Coefficient (Chlorides Weight, theta_1): {final_coefficient:.4f}\")\n",
    "\n",
    "final_intercept = thetaAlc[0, 0]\n",
    "final_coefficient = thetaAlc[1, 0]\n",
    "print( \"ALCOHOL VALUES:\" )\n",
    "print(f\"Final Intercept (Bias, theta_0): {final_intercept:.4f}\")\n",
    "print(f\"Final Coefficient (Alcohol Weight, theta_1): {final_coefficient:.4f}\")"
   ]
  },
  {
   "cell_type": "markdown",
   "id": "7d8db252-f5dc-4ffc-a06b-4799fc8d19da",
   "metadata": {},
   "source": [
    "Both models are bad at predicting an accurate value, but gives a pointer towards how the feature changes the quality in terms of positive/negative. The final coefficients shows us that the increace of alcohol might indicate an increase in the quality, but the increase of chlorides indicates a fall of quality.\n",
    "Since a coefficient value towards zero means that the feature doesn`t seem to affect the quality, we can suggest the model with the highest absolute value of coef might be better..\n",
    "\n",
    "Since non-alcoholic wine is possible, the intercept value from the alcohol gives us a theoretical guideline for how it will be in quality, same with the chlorides."
   ]
  },
  {
   "cell_type": "code",
   "execution_count": 29,
   "id": "6ab2d224-1521-4c4c-9857-e310af9d44b1",
   "metadata": {},
   "outputs": [],
   "source": [
    "#Q-1.3.4\n",
    "#Plottet above..\n",
    "#The regression line fits \"well enough\" to indicate the most common quality levels after adjusting the learning-rate.\n",
    "#  Though it does not fit all of the data points since it adjusts itselfs to vertical clusters, which causes alot of outliers.\n",
    "# "
   ]
  },
  {
   "cell_type": "markdown",
   "id": "f6f29e70-029f-4dd6-95c2-debbb90925d2",
   "metadata": {},
   "source": [
    "# Exercice 1.4 - Train-Test Split"
   ]
  },
  {
   "cell_type": "code",
   "execution_count": 17,
   "id": "e3364402-6524-42f8-928a-96444c589577",
   "metadata": {},
   "outputs": [],
   "source": [
    "\n",
    "# ---------------------\n",
    "# imports:\n",
    "import numpy as np\n",
    "from sklearn.model_selection import KFold\n",
    "from sklearn.linear_model import SGDRegressor\n",
    "from sklearn.metrics import mean_squared_error, r2_score\n",
    "\n"
   ]
  },
  {
   "cell_type": "code",
   "execution_count": 21,
   "id": "0e6ca59d-2a81-4b6d-827b-f93f7a2bfdbc",
   "metadata": {},
   "outputs": [
    {
     "name": "stdout",
     "output_type": "stream",
     "text": [
      "Starting 5-Fold Cross-Validation (80% Train / 20% Test per Fold):\n",
      "--------------------------------------------------\n",
      "--- Fold 1 Evaluation ---\n",
      "  MSE:  0.4592\n",
      "  RMSE: 0.6776\n",
      "  R2:   0.1748\n",
      "  Coef (Theta_1): 0.5100\n",
      "  Intercept (Theta_0): 0.4042\n",
      "--- Fold 2 Evaluation ---\n",
      "  MSE:  0.6222\n",
      "  RMSE: 0.7888\n",
      "  R2:   0.1550\n",
      "  Coef (Theta_1): 0.5030\n",
      "  Intercept (Theta_0): 0.3204\n",
      "--- Fold 3 Evaluation ---\n",
      "  MSE:  0.5459\n",
      "  RMSE: 0.7389\n",
      "  R2:   0.1944\n",
      "  Coef (Theta_1): 0.5026\n",
      "  Intercept (Theta_0): 0.3084\n",
      "--- Fold 4 Evaluation ---\n",
      "  MSE:  0.6455\n",
      "  RMSE: 0.8035\n",
      "  R2:   0.0543\n",
      "  Coef (Theta_1): 0.5460\n",
      "  Intercept (Theta_0): 0.2906\n",
      "--- Fold 5 Evaluation ---\n",
      "  MSE:  0.4897\n",
      "  RMSE: 0.6998\n",
      "  R2:   0.1674\n",
      "  Coef (Theta_1): 0.5052\n",
      "  Intercept (Theta_0): 0.4108\n"
     ]
    }
   ],
   "source": [
    "# Preproc:\n",
    "y_full = dframe[\"quality\"].values\n",
    "X_full = dframe[\"alcohol\"].values.reshape(-1, 1)\n",
    "\n",
    "# Initialize metric lists:\n",
    "mse_scores = []\n",
    "rmse_scores = []\n",
    "r2_scores = []\n",
    "\n",
    "# Simple Linear Regression model(SGD)\n",
    "sgd_reg = SGDRegressor(max_iter=1000, tol=1e-3, penalty=None, random_state=42)\n",
    "\n",
    "# KFold creates the 5 non-overlapping 80% train / 20% test splits\n",
    "kf = KFold(n_splits=5, shuffle=True, random_state=42)\n",
    "\n",
    "# Loop Through the 5 Folds, Train, and Evaluate\n",
    "print(\"Starting 5-Fold Cross-Validation (80% Train / 20% Test per Fold):\")\n",
    "print(\"-\" * 50)\n",
    "\n",
    "# kf.split() yields the indices for splitting X_full and y_full\n",
    "for i, (train_index, test_index) in enumerate(kf.split(X_full)):\n",
    "    \n",
    "    # Split the data for the current fold\n",
    "    X_train, X_test = X_full[train_index], X_full[test_index]\n",
    "    y_train, y_test = y_full[train_index], y_full[test_index]\n",
    "    \n",
    "    # Train the model (Gradient Descent finds the optimal theta values for this 80% subset)\n",
    "    sgd_reg.fit(X_train, y_train)\n",
    "    \n",
    "    # Predict on the test set (using the learned theta values)\n",
    "    y_pred = sgd_reg.predict(X_test)\n",
    "    \n",
    "    # Evaluate the model on the 20% test set:\n",
    "    \n",
    "    # Mean Squared Error (MSE)\n",
    "    mse = mean_squared_error(y_test, y_pred)\n",
    "    mse_scores.append(mse)\n",
    "    \n",
    "    # Root Mean Squared Error (RMSE)\n",
    "    rmse = np.sqrt(mse)\n",
    "    rmse_scores.append(rmse)\n",
    "    \n",
    "    # R2 Score (Coefficient of Determination)\n",
    "    r2 = r2_score(y_test, y_pred)\n",
    "    r2_scores.append(r2)\n",
    "\n",
    "    # Current fold, analysis:\n",
    "    print(f\"--- Fold {i+1} Evaluation ---\")\n",
    "    print(f\"  MSE:  {mse:.4f}\")\n",
    "    print(f\"  RMSE: {rmse:.4f}\")\n",
    "    print(f\"  R2:   {r2:.4f}\")\n",
    "    print(f\"  Coef (Theta_1): {sgd_reg.coef_[0]:.4f}\")\n",
    "    print(f\"  Intercept (Theta_0): {sgd_reg.intercept_[0]:.4f}\")"
   ]
  },
  {
   "cell_type": "markdown",
   "id": "efda6c64-ce3e-43ce-a294-0d7dc25c1218",
   "metadata": {},
   "source": [
    "Question 1.4.1: \n",
    "\n",
    "The MSE and RMSE shows us that the model is missing with around 0.67 -> 0.81 points.\n",
    "The R2 value of \"0.1492 +/- 0.0492\" shows us that the error rate is about 80 to 90 percent which combined with the MSE and RMSE tells us that alcohol is terrible at predicting wine quality."
   ]
  },
  {
   "cell_type": "code",
   "execution_count": 19,
   "id": "957d24da-ff0f-4a7d-b163-1f0cf2acca3f",
   "metadata": {},
   "outputs": [
    {
     "name": "stdout",
     "output_type": "stream",
     "text": [
      "Starting 5-Fold Cross-Validation (80% Train / 20% Test per Fold):\n",
      "--------------------------------------------------\n",
      "--- Fold 1 Evaluation ---\n",
      "  MSE:  0.5585\n",
      "  RMSE: 0.7473\n",
      "  R2:   -0.0037\n",
      "  Coef (Theta_1): 0.4093\n",
      "  Intercept (Theta_0): 5.6225\n",
      "--- Fold 2 Evaluation ---\n",
      "  MSE:  0.7417\n",
      "  RMSE: 0.8612\n",
      "  R2:   -0.0072\n",
      "  Coef (Theta_1): 0.4467\n",
      "  Intercept (Theta_0): 5.6263\n",
      "--- Fold 3 Evaluation ---\n",
      "  MSE:  0.6854\n",
      "  RMSE: 0.8279\n",
      "  R2:   -0.0114\n",
      "  Coef (Theta_1): 0.4404\n",
      "  Intercept (Theta_0): 5.6273\n",
      "--- Fold 4 Evaluation ---\n",
      "  MSE:  0.6888\n",
      "  RMSE: 0.8299\n",
      "  R2:   -0.0091\n",
      "  Coef (Theta_1): 0.4308\n",
      "  Intercept (Theta_0): 5.6190\n",
      "--- Fold 5 Evaluation ---\n",
      "  MSE:  0.5940\n",
      "  RMSE: 0.7707\n",
      "  R2:   -0.0098\n",
      "  Coef (Theta_1): 0.4151\n",
      "  Intercept (Theta_0): 5.6070\n"
     ]
    }
   ],
   "source": [
    "#Q-1.4.2 code:\n",
    "# Preproc:\n",
    "y_full = dframe[\"quality\"].values\n",
    "X_full = dframe[\"chlorides\"].values.reshape(-1, 1)\n",
    "\n",
    "# Initialize metric lists:\n",
    "mse_scores_chlo = []\n",
    "rmse_scores_chlo = []\n",
    "r2_scores_chlo = []\n",
    "\n",
    "#----\n",
    "\n",
    "# Simple Linear Regression model(SGD)\n",
    "sgd_reg = SGDRegressor(max_iter=1000, tol=1e-3, penalty=None, random_state=42)\n",
    "\n",
    "# KFold creates the 5 non-overlapping 80% train / 20% test splits\n",
    "kf = KFold(n_splits=5, shuffle=True, random_state=42)\n",
    "\n",
    "# Loop Through the 5 Folds, Train, and Evaluate\n",
    "print(\"Starting 5-Fold Cross-Validation (80% Train / 20% Test per Fold):\")\n",
    "print(\"-\" * 50)\n",
    "\n",
    "# kf.split() yields the indices for splitting X_full and y_full\n",
    "for i, (train_index, test_index) in enumerate(kf.split(X_full)):\n",
    "    \n",
    "    # Split the data for the current fold\n",
    "    X_train, X_test = X_full[train_index], X_full[test_index]\n",
    "    y_train, y_test = y_full[train_index], y_full[test_index]\n",
    "    \n",
    "    # Train the model (Gradient Descent finds the optimal theta values for this 80% subset)\n",
    "    sgd_reg.fit(X_train, y_train)\n",
    "    \n",
    "    # Predict on the test set (using the learned theta values)\n",
    "    y_pred = sgd_reg.predict(X_test)\n",
    "    \n",
    "    # Evaluate the model on the 20% test set:\n",
    "    # Mean Squared Error (MSE)\n",
    "    mse = mean_squared_error(y_test, y_pred)\n",
    "    mse_scores_chlo.append(mse)\n",
    "    \n",
    "    # Root Mean Squared Error (RMSE)\n",
    "    rmse = np.sqrt(mse)\n",
    "    rmse_scores_chlo.append(rmse)\n",
    "    \n",
    "    # R2 Score (Coefficient of Determination)\n",
    "    r2 = r2_score(y_test, y_pred)\n",
    "    r2_scores_chlo.append(r2)\n",
    "\n",
    "    # Current fold, analysis:\n",
    "    print(f\"--- Fold {i+1} Evaluation ---\")\n",
    "    print(f\"  MSE:  {mse:.4f}\")\n",
    "    print(f\"  RMSE: {rmse:.4f}\")\n",
    "    print(f\"  R2:   {r2:.4f}\")\n",
    "    print(f\"  Coef (Theta_1): {sgd_reg.coef_[0]:.4f}\")\n",
    "    print(f\"  Intercept (Theta_0): {sgd_reg.intercept_[0]:.4f}\")\n"
   ]
  },
  {
   "cell_type": "markdown",
   "id": "10862bda-213c-475f-a1c7-055bc2eea393",
   "metadata": {},
   "source": [
    "Question 1.4.2 - Answer:\n",
    "\n",
    "Though the RMSE isnt that higher then the alcohol model above, the R2 score below zero suggesting terrible predicting."
   ]
  },
  {
   "cell_type": "markdown",
   "id": "bc56df82-afe8-4b81-9193-4ecb299bc90f",
   "metadata": {},
   "source": [
    "Question 1.4.3 - Answer:\n",
    "\n",
    "Reasons for underfitting:\n",
    "\n",
    "* A linear regression model is to simple to conprehend the actual data points and will most likely cause underfitting due to high bias.\n",
    "* The last R2 scores are almost low.\n",
    "* The data points contains outliers that will create noise."
   ]
  },
  {
   "cell_type": "code",
   "execution_count": 20,
   "id": "02c08352-4620-4aee-9a26-d277f34d343c",
   "metadata": {},
   "outputs": [
    {
     "name": "stdout",
     "output_type": "stream",
     "text": [
      "--------------------------------------------------\n",
      "Alcohol -- Average Performance Across 5 Folds:\n",
      "  Avg. MSE:  0.5525 +/- 0.0724\n",
      "  Avg. RMSE: 0.7417 +/- 0.0488\n",
      "  Avg. R2:   0.1492 +/- 0.0492\n",
      "--------------------------------------------------\n",
      "Chloride -- Average Performance Across 5 Folds:\n",
      "  Avg. MSE:  0.6537 +/- 0.0672\n",
      "  Avg. RMSE: 0.8074 +/- 0.0419\n",
      "  Avg. R2:   -0.0082 +/- 0.0026\n"
     ]
    }
   ],
   "source": [
    "#Q-1.4.4 Mean and variance from both models (alcohol and chloride).\n",
    "print(\"-\" * 50)\n",
    "print(\"Alcohol -- Average Performance Across 5 Folds:\")\n",
    "print(f\"  Avg. MSE:  {np.mean(mse_scores):.4f} +/- {np.std(mse_scores):.4f}\")\n",
    "print(f\"  Avg. RMSE: {np.mean(rmse_scores):.4f} +/- {np.std(rmse_scores):.4f}\")\n",
    "print(f\"  Avg. R2:   {np.mean(r2_scores):.4f} +/- {np.std(r2_scores):.4f}\")\n",
    "\n",
    "\n",
    "print(\"-\" * 50)\n",
    "print(\"Chloride -- Average Performance Across 5 Folds:\")\n",
    "print(f\"  Avg. MSE:  {np.mean(mse_scores_chlo):.4f} +/- {np.std(mse_scores_chlo):.4f}\")\n",
    "print(f\"  Avg. RMSE: {np.mean(rmse_scores_chlo):.4f} +/- {np.std(rmse_scores_chlo):.4f}\")\n",
    "print(f\"  Avg. R2:   {np.mean(r2_scores_chlo):.4f} +/- {np.std(r2_scores_chlo):.4f}\")\n",
    "\n"
   ]
  },
  {
   "cell_type": "markdown",
   "id": "d0cafd4b-bf8f-4a62-adcc-5599fa4d35a2",
   "metadata": {},
   "source": [
    "Q-1.4.4 - Answer text:\n",
    "\n",
    "Both models have a bad MSE and RMSE score, but the chloride model has a much lower R2 score then the alcohol model. \n",
    "In summary: \n",
    "* Alcohol model is weak but useful.\n",
    "* Chloride is terrible, where the relationship between quality and chloride could aswell be noise."
   ]
  },
  {
   "cell_type": "markdown",
   "id": "7c5e1f91-6199-44d8-90e0-41313ecc22b6",
   "metadata": {},
   "source": [
    "# Exercice 1.5 - Multiple Linear Regression"
   ]
  },
  {
   "cell_type": "code",
   "execution_count": 47,
   "id": "9600ab4c-41af-477c-a8e1-454866724031",
   "metadata": {},
   "outputs": [
    {
     "name": "stdout",
     "output_type": "stream",
     "text": [
      "Starting 5-Fold Cross-Validation (80% Train / 20% Test per Fold):\n",
      "--------------------------------------------------\n",
      "--- Fold 1 Evaluation ---\n",
      "  MSE:  0.4204\n",
      "  RMSE: 0.6484\n",
      "  R2:   0.2446\n",
      "  Coef (Theta_1): 0.2433\n",
      "  Intercept (Theta_0): 5.6596\n",
      "--- Fold 2 Evaluation ---\n",
      "  MSE:  0.5171\n",
      "  RMSE: 0.7191\n",
      "  R2:   0.2979\n",
      "  Coef (Theta_1): 0.2218\n",
      "  Intercept (Theta_0): 5.6629\n",
      "--- Fold 3 Evaluation ---\n",
      "  MSE:  0.4558\n",
      "  RMSE: 0.6751\n",
      "  R2:   0.3274\n",
      "  Coef (Theta_1): 0.2314\n",
      "  Intercept (Theta_0): 5.6637\n",
      "--- Fold 4 Evaluation ---\n",
      "  MSE:  0.4503\n",
      "  RMSE: 0.6710\n",
      "  R2:   0.3403\n",
      "  Coef (Theta_1): 0.2041\n",
      "  Intercept (Theta_0): 5.6587\n",
      "--- Fold 5 Evaluation ---\n",
      "  MSE:  0.3924\n",
      "  RMSE: 0.6264\n",
      "  R2:   0.3330\n",
      "  Coef (Theta_1): 0.2508\n",
      "  Intercept (Theta_0): 5.6447\n",
      "--------------------------------------------------\n",
      "Chloride -- Average Performance Across 5 Folds:\n",
      "  Avg. MSE:  0.4472 +/- 0.0417\n",
      "  Avg. RMSE: 0.6680 +/- 0.0309\n",
      "  Avg. R2:   0.3086 +/- 0.0351\n"
     ]
    }
   ],
   "source": [
    "#Q-1.5.1\n",
    "\n",
    "# Preproc:\n",
    "y_full = dframe[\"quality\"].values\n",
    "\n",
    "X_full = dframe[[\"fixed acidity\", \"volatile acidity\", \"residual sugar\", \n",
    "    \"citric acid\", \"chlorides\", \"free sulfur dioxide\",\"total sulfur dioxide\",\n",
    "    \"density\", \"pH\", \"sulphates\"]].values\n",
    "\n",
    "# Initialize metric lists:\n",
    "mse_scores_all = []\n",
    "rmse_scores_all = []\n",
    "r2_scores_all = []\n",
    "\n",
    "\n",
    "\n",
    "#----\n",
    "\n",
    "# Simple Linear Regression model(SGD)\n",
    "sgd_reg = SGDRegressor(max_iter=1000, tol=1e-3, penalty=None, random_state=42)\n",
    "\n",
    "# KFold creates the 5 non-overlapping 80% train / 20% test splits\n",
    "kf = KFold(n_splits=5, shuffle=True, random_state=42)\n",
    "\n",
    "# Loop Through the 5 Folds, Train, and Evaluate\n",
    "print(\"Starting 5-Fold Cross-Validation (80% Train / 20% Test per Fold):\")\n",
    "print(\"-\" * 50)\n",
    "\n",
    " #Scaler init:\n",
    "scaler = StandardScaler()\n",
    "\n",
    "\n",
    "# kf.split() yields the indices for splitting X_full and y_full\n",
    "for i, (train_index, test_index) in enumerate(kf.split(X_full)):\n",
    "    \n",
    "    # Split the data for the current fold\n",
    "    x_train, x_test = X_full[train_index], X_full[test_index]\n",
    "    y_train, y_test = y_full[train_index], y_full[test_index]\n",
    "    #Scale data inside loop, because we cant to them both together (indirect bias??)\n",
    "    x_train_sc = scaler.fit_transform(x_train)\n",
    "    x_test_sc = scaler.transform(x_test)\n",
    "    \n",
    "    \n",
    "    # Train the model (Gradient Descent finds the optimal theta values for this 80% subset)\n",
    "    sgd_reg.fit(x_train_sc, y_train)\n",
    "\n",
    "    # Predict on the test set (using the learned theta values)\n",
    "    y_pred = sgd_reg.predict(x_test_sc)\n",
    "    \n",
    "    # Evaluate the model on the 20% test set:\n",
    "    # Mean Squared Error (MSE)\n",
    "    mse = mean_squared_error(y_test, y_pred)\n",
    "    mse_scores_all.append(mse)\n",
    "    \n",
    "    # Root Mean Squared Error (RMSE)\n",
    "    rmse = np.sqrt(mse)\n",
    "    rmse_scores_all.append(rmse)\n",
    "    \n",
    "    # R2 Score (Coefficient of Determination)\n",
    "    r2 = r2_score(y_test, y_pred)\n",
    "    r2_scores_all.append(r2)\n",
    "\n",
    "    # Current fold, analysis:\n",
    "    print(f\"--- Fold {i+1} Evaluation ---\")\n",
    "    print(f\"  MSE:  {mse:.4f}\")\n",
    "    print(f\"  RMSE: {rmse:.4f}\")\n",
    "    print(f\"  R2:   {r2:.4f}\")\n",
    "    print(f\"  Coef (Theta_1): {sgd_reg.coef_[0]:.4f}\")\n",
    "    print(f\"  Intercept (Theta_0): {sgd_reg.intercept_[0]:.4f}\")\n",
    "\n",
    "\n",
    "print(\"-\" * 50)\n",
    "print(\"Chloride -- Average Performance Across 5 Folds:\")\n",
    "print(f\"  Avg. MSE:  {np.mean(mse_scores_all):.4f} +/- {np.std(mse_scores_all):.4f}\")\n",
    "print(f\"  Avg. RMSE: {np.mean(rmse_scores_all):.4f} +/- {np.std(rmse_scores_all):.4f}\")\n",
    "print(f\"  Avg. R2:   {np.mean(r2_scores_all):.4f} +/- {np.std(r2_scores_all):.4f}\")\n",
    "\n"
   ]
  },
  {
   "cell_type": "markdown",
   "id": "ca167fed-36fb-4739-a692-a1284157945c",
   "metadata": {},
   "source": [
    "Question 1.5.2 - Answer:\n",
    "\n",
    "The results from the multiple linear regression shows a huge improvement on the R2 score, and an average correction improvement of y = +/-0.15 data points! \n",
    "These are highly improved results, with a correction percentage of around 30 percent."
   ]
  },
  {
   "cell_type": "code",
   "execution_count": null,
   "id": "38dfc555-bd52-4520-ad13-7d11999d2b5d",
   "metadata": {},
   "outputs": [],
   "source": [
    "#Q.1.5.3:"
   ]
  },
  {
   "cell_type": "code",
   "execution_count": 48,
   "id": "ad557bfb-7850-49a2-ab78-65d11feb357c",
   "metadata": {},
   "outputs": [],
   "source": [
    "#Q.1.5.4:\n"
   ]
  },
  {
   "cell_type": "markdown",
   "id": "2a06909d-e630-4a02-91a2-cd882b4272ad",
   "metadata": {},
   "source": [
    "# Exercise-2"
   ]
  },
  {
   "cell_type": "code",
   "execution_count": null,
   "id": "d4be146b-0e88-4cfd-8560-8133b1d9c255",
   "metadata": {},
   "outputs": [],
   "source": [
    "#Q2.1"
   ]
  }
 ],
 "metadata": {
  "kernelspec": {
   "display_name": "Python 3 (ipykernel)",
   "language": "python",
   "name": "python3"
  },
  "language_info": {
   "codemirror_mode": {
    "name": "ipython",
    "version": 3
   },
   "file_extension": ".py",
   "mimetype": "text/x-python",
   "name": "python",
   "nbconvert_exporter": "python",
   "pygments_lexer": "ipython3",
   "version": "3.11.9"
  }
 },
 "nbformat": 4,
 "nbformat_minor": 5
}
